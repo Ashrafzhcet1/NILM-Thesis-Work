{
 "cells": [
  {
   "cell_type": "code",
   "execution_count": 3,
   "id": "3fa261e4",
   "metadata": {},
   "outputs": [
    {
     "data": {
      "text/plain": [
       "MeterGroup(meters=\n",
       "  ElecMeter(instance=1, building=1, dataset='REFIT', site_meter, appliances=[])\n",
       "  ElecMeter(instance=2, building=1, dataset='REFIT', appliances=[Appliance(type='fridge', instance=1)])\n",
       "  ElecMeter(instance=3, building=1, dataset='REFIT', appliances=[Appliance(type='freezer', instance=1)])\n",
       "  ElecMeter(instance=4, building=1, dataset='REFIT', appliances=[Appliance(type='freezer', instance=2)])\n",
       "  ElecMeter(instance=5, building=1, dataset='REFIT', appliances=[Appliance(type='washer dryer', instance=1)])\n",
       "  ElecMeter(instance=6, building=1, dataset='REFIT', appliances=[Appliance(type='washing machine', instance=1)])\n",
       "  ElecMeter(instance=7, building=1, dataset='REFIT', appliances=[Appliance(type='dish washer', instance=1)])\n",
       "  ElecMeter(instance=8, building=1, dataset='REFIT', appliances=[Appliance(type='computer', instance=1)])\n",
       "  ElecMeter(instance=9, building=1, dataset='REFIT', appliances=[Appliance(type='television', instance=1)])\n",
       "  ElecMeter(instance=10, building=1, dataset='REFIT', appliances=[Appliance(type='electric space heater', instance=1)])\n",
       ")"
      ]
     },
     "execution_count": 3,
     "metadata": {},
     "output_type": "execute_result"
    }
   ],
   "source": [
    "from nilmtk import DataSet\n",
    "\n",
    "refit = DataSet(r'C:\\Users\\Ashraf\\ashraf9.hdf')\n",
    "elec = refit.buildings[1].elec\n",
    "elec\n"
   ]
  },
  {
   "cell_type": "code",
   "execution_count": 8,
   "id": "28697b01",
   "metadata": {},
   "outputs": [
    {
     "data": {
      "text/plain": [
       "[('power', 'active')]"
      ]
     },
     "execution_count": 8,
     "metadata": {},
     "output_type": "execute_result"
    }
   ],
   "source": [
    "computer = elec['computer']\n",
    "computer.available_columns()"
   ]
  },
  {
   "cell_type": "code",
   "execution_count": 10,
   "id": "bca676e6",
   "metadata": {},
   "outputs": [
    {
     "data": {
      "text/plain": [
       "[('power', 'active')]"
      ]
     },
     "execution_count": 10,
     "metadata": {},
     "output_type": "execute_result"
    }
   ],
   "source": [
    "electric_space_heater = elec['electric space heater']\n",
    "electric_space_heater.available_columns()"
   ]
  },
  {
   "cell_type": "code",
   "execution_count": 11,
   "id": "0c1350ed",
   "metadata": {},
   "outputs": [
    {
     "ename": "Exception",
     "evalue": "search terms match 2 appliances",
     "output_type": "error",
     "traceback": [
      "\u001b[1;31m---------------------------------------------------------------------------\u001b[0m",
      "\u001b[1;31mException\u001b[0m                                 Traceback (most recent call last)",
      "Cell \u001b[1;32mIn [11], line 1\u001b[0m\n\u001b[1;32m----> 1\u001b[0m washer_dryer \u001b[38;5;241m=\u001b[39m \u001b[43melec\u001b[49m\u001b[43m[\u001b[49m\u001b[38;5;124;43m'\u001b[39;49m\u001b[38;5;124;43mwasher dryer\u001b[39;49m\u001b[38;5;124;43m'\u001b[39;49m\u001b[43m]\u001b[49m\n\u001b[0;32m      2\u001b[0m washer_dryer\u001b[38;5;241m.\u001b[39mavailable_columns()\n",
      "File \u001b[1;32m~\\anaconda3\\envs\\nilmtk-env\\lib\\site-packages\\nilmtk\\metergroup.py:208\u001b[0m, in \u001b[0;36mMeterGroup.__getitem__\u001b[1;34m(self, key)\u001b[0m\n\u001b[0;32m    173\u001b[0m \u001b[38;5;124;03m\"\"\"Get a single meter using appliance type and instance unless\u001b[39;00m\n\u001b[0;32m    174\u001b[0m \u001b[38;5;124;03mElecMeterID is supplied.\u001b[39;00m\n\u001b[0;32m    175\u001b[0m \n\u001b[1;32m   (...)\u001b[0m\n\u001b[0;32m    203\u001b[0m \u001b[38;5;124;03mElecMeter or MeterGroup\u001b[39;00m\n\u001b[0;32m    204\u001b[0m \u001b[38;5;124;03m\"\"\"\u001b[39;00m\n\u001b[0;32m    206\u001b[0m \u001b[38;5;28;01mif\u001b[39;00m \u001b[38;5;28misinstance\u001b[39m(key, \u001b[38;5;28mstr\u001b[39m):\n\u001b[0;32m    207\u001b[0m     \u001b[38;5;66;03m# default to get first meter\u001b[39;00m\n\u001b[1;32m--> 208\u001b[0m     \u001b[38;5;28;01mreturn\u001b[39;00m \u001b[38;5;28;43mself\u001b[39;49m\u001b[43m[\u001b[49m\u001b[43m(\u001b[49m\u001b[43mkey\u001b[49m\u001b[43m,\u001b[49m\u001b[43m \u001b[49m\u001b[38;5;241;43m1\u001b[39;49m\u001b[43m)\u001b[49m\u001b[43m]\u001b[49m\n\u001b[0;32m    209\u001b[0m \u001b[38;5;28;01melif\u001b[39;00m \u001b[38;5;28misinstance\u001b[39m(key, ElecMeterID):\n\u001b[0;32m    210\u001b[0m     \u001b[38;5;28;01mif\u001b[39;00m \u001b[38;5;28misinstance\u001b[39m(key\u001b[38;5;241m.\u001b[39minstance, \u001b[38;5;28mtuple\u001b[39m):\n\u001b[0;32m    211\u001b[0m         \u001b[38;5;66;03m# find meter group from a key of the form\u001b[39;00m\n\u001b[0;32m    212\u001b[0m         \u001b[38;5;66;03m# ElecMeterID(instance=(1,2), building=1, dataset='REDD')\u001b[39;00m\n",
      "File \u001b[1;32m~\\anaconda3\\envs\\nilmtk-env\\lib\\site-packages\\nilmtk\\metergroup.py:252\u001b[0m, in \u001b[0;36mMeterGroup.__getitem__\u001b[1;34m(self, key)\u001b[0m\n\u001b[0;32m    250\u001b[0m \u001b[38;5;28;01mif\u001b[39;00m \u001b[38;5;28mlen\u001b[39m(key) \u001b[38;5;241m==\u001b[39m \u001b[38;5;241m2\u001b[39m:\n\u001b[0;32m    251\u001b[0m     \u001b[38;5;28;01mif\u001b[39;00m \u001b[38;5;28misinstance\u001b[39m(key[\u001b[38;5;241m0\u001b[39m], \u001b[38;5;28mstr\u001b[39m):\n\u001b[1;32m--> 252\u001b[0m         \u001b[38;5;28;01mreturn\u001b[39;00m \u001b[38;5;28;43mself\u001b[39;49m\u001b[43m[\u001b[49m\u001b[43m{\u001b[49m\u001b[38;5;124;43m'\u001b[39;49m\u001b[38;5;124;43mtype\u001b[39;49m\u001b[38;5;124;43m'\u001b[39;49m\u001b[43m:\u001b[49m\u001b[43m \u001b[49m\u001b[43mkey\u001b[49m\u001b[43m[\u001b[49m\u001b[38;5;241;43m0\u001b[39;49m\u001b[43m]\u001b[49m\u001b[43m,\u001b[49m\u001b[43m \u001b[49m\u001b[38;5;124;43m'\u001b[39;49m\u001b[38;5;124;43minstance\u001b[39;49m\u001b[38;5;124;43m'\u001b[39;49m\u001b[43m:\u001b[49m\u001b[43m \u001b[49m\u001b[43mkey\u001b[49m\u001b[43m[\u001b[49m\u001b[38;5;241;43m1\u001b[39;49m\u001b[43m]\u001b[49m\u001b[43m}\u001b[49m\u001b[43m]\u001b[49m\n\u001b[0;32m    253\u001b[0m     \u001b[38;5;28;01melse\u001b[39;00m:\n\u001b[0;32m    254\u001b[0m         \u001b[38;5;66;03m# Assume we're dealing with a request for 2 ElecMeters\u001b[39;00m\n\u001b[0;32m    255\u001b[0m         \u001b[38;5;28;01mreturn\u001b[39;00m MeterGroup([\u001b[38;5;28mself\u001b[39m[i] \u001b[38;5;28;01mfor\u001b[39;00m i \u001b[38;5;129;01min\u001b[39;00m key])\n",
      "File \u001b[1;32m~\\anaconda3\\envs\\nilmtk-env\\lib\\site-packages\\nilmtk\\metergroup.py:268\u001b[0m, in \u001b[0;36mMeterGroup.__getitem__\u001b[1;34m(self, key)\u001b[0m\n\u001b[0;32m    266\u001b[0m     \u001b[38;5;28;01mreturn\u001b[39;00m meters[\u001b[38;5;241m0\u001b[39m]\n\u001b[0;32m    267\u001b[0m \u001b[38;5;28;01melif\u001b[39;00m \u001b[38;5;28mlen\u001b[39m(meters) \u001b[38;5;241m>\u001b[39m \u001b[38;5;241m1\u001b[39m:\n\u001b[1;32m--> 268\u001b[0m     \u001b[38;5;28;01mraise\u001b[39;00m \u001b[38;5;167;01mException\u001b[39;00m(\u001b[38;5;124m'\u001b[39m\u001b[38;5;124msearch terms match \u001b[39m\u001b[38;5;132;01m{}\u001b[39;00m\u001b[38;5;124m appliances\u001b[39m\u001b[38;5;124m'\u001b[39m\n\u001b[0;32m    269\u001b[0m                     \u001b[38;5;241m.\u001b[39mformat(\u001b[38;5;28mlen\u001b[39m(meters)))\n\u001b[0;32m    270\u001b[0m \u001b[38;5;28;01melse\u001b[39;00m:\n\u001b[0;32m    271\u001b[0m     \u001b[38;5;28;01mraise\u001b[39;00m \u001b[38;5;167;01mKeyError\u001b[39;00m(key)\n",
      "\u001b[1;31mException\u001b[0m: search terms match 2 appliances"
     ]
    }
   ],
   "source": [
    "washer_dryer = elec['washer dryer']\n",
    "washer_dryer.available_columns()"
   ]
  },
  {
   "cell_type": "code",
   "execution_count": 12,
   "id": "03db58f2",
   "metadata": {},
   "outputs": [
    {
     "data": {
      "text/html": [
       "<div>\n",
       "<style scoped>\n",
       "    .dataframe tbody tr th:only-of-type {\n",
       "        vertical-align: middle;\n",
       "    }\n",
       "\n",
       "    .dataframe tbody tr th {\n",
       "        vertical-align: top;\n",
       "    }\n",
       "\n",
       "    .dataframe thead tr th {\n",
       "        text-align: left;\n",
       "    }\n",
       "\n",
       "    .dataframe thead tr:last-of-type th {\n",
       "        text-align: right;\n",
       "    }\n",
       "</style>\n",
       "<table border=\"1\" class=\"dataframe\">\n",
       "  <thead>\n",
       "    <tr>\n",
       "      <th>physical_quantity</th>\n",
       "      <th>power</th>\n",
       "    </tr>\n",
       "    <tr>\n",
       "      <th>type</th>\n",
       "      <th>active</th>\n",
       "    </tr>\n",
       "    <tr>\n",
       "      <th>Unix</th>\n",
       "      <th></th>\n",
       "    </tr>\n",
       "  </thead>\n",
       "  <tbody>\n",
       "    <tr>\n",
       "      <th>2013-10-09 14:06:17+01:00</th>\n",
       "      <td>0</td>\n",
       "    </tr>\n",
       "    <tr>\n",
       "      <th>2013-10-09 14:06:31+01:00</th>\n",
       "      <td>0</td>\n",
       "    </tr>\n",
       "    <tr>\n",
       "      <th>2013-10-09 14:06:46+01:00</th>\n",
       "      <td>0</td>\n",
       "    </tr>\n",
       "    <tr>\n",
       "      <th>2013-10-09 14:07:01+01:00</th>\n",
       "      <td>0</td>\n",
       "    </tr>\n",
       "    <tr>\n",
       "      <th>2013-10-09 14:07:15+01:00</th>\n",
       "      <td>0</td>\n",
       "    </tr>\n",
       "  </tbody>\n",
       "</table>\n",
       "</div>"
      ],
      "text/plain": [
       "physical_quantity          power\n",
       "type                      active\n",
       "Unix                            \n",
       "2013-10-09 14:06:17+01:00      0\n",
       "2013-10-09 14:06:31+01:00      0\n",
       "2013-10-09 14:06:46+01:00      0\n",
       "2013-10-09 14:07:01+01:00      0\n",
       "2013-10-09 14:07:15+01:00      0"
      ]
     },
     "execution_count": 12,
     "metadata": {},
     "output_type": "execute_result"
    }
   ],
   "source": [
    "df = next(computer.load())\n",
    "df.head()"
   ]
  },
  {
   "cell_type": "code",
   "execution_count": 13,
   "id": "a5603f8e",
   "metadata": {},
   "outputs": [
    {
     "data": {
      "text/plain": [
       "Unix\n",
       "2013-10-09 14:06:17+01:00    0\n",
       "2013-10-09 14:06:31+01:00    0\n",
       "2013-10-09 14:06:46+01:00    0\n",
       "2013-10-09 14:07:01+01:00    0\n",
       "2013-10-09 14:07:15+01:00    0\n",
       "Name: (power, active), dtype: int64"
      ]
     },
     "execution_count": 13,
     "metadata": {},
     "output_type": "execute_result"
    }
   ],
   "source": [
    "series = next(computer.power_series())\n",
    "series.head()"
   ]
  },
  {
   "cell_type": "code",
   "execution_count": 15,
   "id": "098a2861",
   "metadata": {},
   "outputs": [
    {
     "data": {
      "text/plain": [
       "Unix\n",
       "2013-10-09 14:06:17+01:00    0\n",
       "2013-10-09 14:06:31+01:00    0\n",
       "2013-10-09 14:06:46+01:00    0\n",
       "2013-10-09 14:07:01+01:00    0\n",
       "2013-10-09 14:07:15+01:00    0\n",
       "Name: (power, active), dtype: int64"
      ]
     },
     "execution_count": 15,
     "metadata": {},
     "output_type": "execute_result"
    }
   ],
   "source": [
    "series = next(computer.power_series(ac_type='active'))\n",
    "series.head()"
   ]
  },
  {
   "cell_type": "code",
   "execution_count": 3,
   "id": "55e98cf5",
   "metadata": {},
   "outputs": [
    {
     "data": {
      "text/plain": [
       "MeterGroup(meters=\n",
       "  ElecMeter(instance=1, building=2, dataset='REFIT', site_meter, appliances=[])\n",
       "  ElecMeter(instance=2, building=2, dataset='REFIT', appliances=[Appliance(type='fridge freezer', instance=1)])\n",
       "  ElecMeter(instance=3, building=2, dataset='REFIT', appliances=[Appliance(type='washing machine', instance=1)])\n",
       "  ElecMeter(instance=4, building=2, dataset='REFIT', appliances=[Appliance(type='dish washer', instance=1)])\n",
       "  ElecMeter(instance=5, building=2, dataset='REFIT', appliances=[Appliance(type='television', instance=1)])\n",
       "  ElecMeter(instance=6, building=2, dataset='REFIT', appliances=[Appliance(type='microwave', instance=1)])\n",
       "  ElecMeter(instance=7, building=2, dataset='REFIT', appliances=[Appliance(type='toaster', instance=1)])\n",
       "  ElecMeter(instance=8, building=2, dataset='REFIT', appliances=[Appliance(type='audio system', instance=1)])\n",
       "  ElecMeter(instance=9, building=2, dataset='REFIT', appliances=[Appliance(type='kettle', instance=1)])\n",
       "  ElecMeter(instance=10, building=2, dataset='REFIT', appliances=[Appliance(type='fan', instance=1)])\n",
       ")"
      ]
     },
     "execution_count": 3,
     "metadata": {},
     "output_type": "execute_result"
    }
   ],
   "source": [
    "from nilmtk import DataSet\n",
    "\n",
    "refit = DataSet(r'C:\\Users\\Ashraf\\ashraf9.hdf')\n",
    "elec = refit.buildings[2].elec\n",
    "elec\n"
   ]
  },
  {
   "cell_type": "code",
   "execution_count": 4,
   "id": "f9f6cb47",
   "metadata": {},
   "outputs": [
    {
     "data": {
      "text/plain": [
       "[('power', 'active')]"
      ]
     },
     "execution_count": 4,
     "metadata": {},
     "output_type": "execute_result"
    }
   ],
   "source": [
    "fridge = elec['fridge freezer']\n",
    "fridge.available_columns()"
   ]
  },
  {
   "cell_type": "code",
   "execution_count": 5,
   "id": "761197fa",
   "metadata": {},
   "outputs": [
    {
     "data": {
      "text/html": [
       "<div>\n",
       "<style scoped>\n",
       "    .dataframe tbody tr th:only-of-type {\n",
       "        vertical-align: middle;\n",
       "    }\n",
       "\n",
       "    .dataframe tbody tr th {\n",
       "        vertical-align: top;\n",
       "    }\n",
       "\n",
       "    .dataframe thead tr th {\n",
       "        text-align: left;\n",
       "    }\n",
       "\n",
       "    .dataframe thead tr:last-of-type th {\n",
       "        text-align: right;\n",
       "    }\n",
       "</style>\n",
       "<table border=\"1\" class=\"dataframe\">\n",
       "  <thead>\n",
       "    <tr>\n",
       "      <th>physical_quantity</th>\n",
       "      <th>power</th>\n",
       "    </tr>\n",
       "    <tr>\n",
       "      <th>type</th>\n",
       "      <th>active</th>\n",
       "    </tr>\n",
       "    <tr>\n",
       "      <th>Unix</th>\n",
       "      <th></th>\n",
       "    </tr>\n",
       "  </thead>\n",
       "  <tbody>\n",
       "    <tr>\n",
       "      <th>2013-09-17 23:08:11+01:00</th>\n",
       "      <td>88</td>\n",
       "    </tr>\n",
       "    <tr>\n",
       "      <th>2013-09-17 23:08:18+01:00</th>\n",
       "      <td>88</td>\n",
       "    </tr>\n",
       "    <tr>\n",
       "      <th>2013-09-17 23:08:26+01:00</th>\n",
       "      <td>88</td>\n",
       "    </tr>\n",
       "    <tr>\n",
       "      <th>2013-09-17 23:08:34+01:00</th>\n",
       "      <td>88</td>\n",
       "    </tr>\n",
       "    <tr>\n",
       "      <th>2013-09-17 23:08:42+01:00</th>\n",
       "      <td>88</td>\n",
       "    </tr>\n",
       "  </tbody>\n",
       "</table>\n",
       "</div>"
      ],
      "text/plain": [
       "physical_quantity          power\n",
       "type                      active\n",
       "Unix                            \n",
       "2013-09-17 23:08:11+01:00     88\n",
       "2013-09-17 23:08:18+01:00     88\n",
       "2013-09-17 23:08:26+01:00     88\n",
       "2013-09-17 23:08:34+01:00     88\n",
       "2013-09-17 23:08:42+01:00     88"
      ]
     },
     "execution_count": 5,
     "metadata": {},
     "output_type": "execute_result"
    }
   ],
   "source": [
    "df = next(fridge.load())\n",
    "df.head()"
   ]
  },
  {
   "cell_type": "code",
   "execution_count": 7,
   "id": "36e205d8",
   "metadata": {},
   "outputs": [
    {
     "data": {
      "text/html": [
       "<div>\n",
       "<style scoped>\n",
       "    .dataframe tbody tr th:only-of-type {\n",
       "        vertical-align: middle;\n",
       "    }\n",
       "\n",
       "    .dataframe tbody tr th {\n",
       "        vertical-align: top;\n",
       "    }\n",
       "\n",
       "    .dataframe thead tr th {\n",
       "        text-align: left;\n",
       "    }\n",
       "\n",
       "    .dataframe thead tr:last-of-type th {\n",
       "        text-align: right;\n",
       "    }\n",
       "</style>\n",
       "<table border=\"1\" class=\"dataframe\">\n",
       "  <thead>\n",
       "    <tr>\n",
       "      <th>physical_quantity</th>\n",
       "      <th>power</th>\n",
       "    </tr>\n",
       "    <tr>\n",
       "      <th>type</th>\n",
       "      <th>active</th>\n",
       "    </tr>\n",
       "    <tr>\n",
       "      <th>Unix</th>\n",
       "      <th></th>\n",
       "    </tr>\n",
       "  </thead>\n",
       "  <tbody>\n",
       "    <tr>\n",
       "      <th>2013-09-17 23:00:00+01:00</th>\n",
       "      <td>33.081871</td>\n",
       "    </tr>\n",
       "    <tr>\n",
       "      <th>2013-09-18 00:00:00+01:00</th>\n",
       "      <td>34.347245</td>\n",
       "    </tr>\n",
       "    <tr>\n",
       "      <th>2013-09-18 01:00:00+01:00</th>\n",
       "      <td>34.171667</td>\n",
       "    </tr>\n",
       "    <tr>\n",
       "      <th>2013-09-18 02:00:00+01:00</th>\n",
       "      <td>4.184122</td>\n",
       "    </tr>\n",
       "    <tr>\n",
       "      <th>2013-09-18 03:00:00+01:00</th>\n",
       "      <td>31.575251</td>\n",
       "    </tr>\n",
       "  </tbody>\n",
       "</table>\n",
       "</div>"
      ],
      "text/plain": [
       "physical_quantity              power\n",
       "type                          active\n",
       "Unix                                \n",
       "2013-09-17 23:00:00+01:00  33.081871\n",
       "2013-09-18 00:00:00+01:00  34.347245\n",
       "2013-09-18 01:00:00+01:00  34.171667\n",
       "2013-09-18 02:00:00+01:00   4.184122\n",
       "2013-09-18 03:00:00+01:00  31.575251"
      ]
     },
     "execution_count": 7,
     "metadata": {},
     "output_type": "execute_result"
    }
   ],
   "source": [
    "df = next(fridge.load(ac_type='active', sample_period=3600))\n",
    "df.head()"
   ]
  },
  {
   "cell_type": "code",
   "execution_count": null,
   "id": "9dcb0d30",
   "metadata": {},
   "outputs": [],
   "source": []
  }
 ],
 "metadata": {
  "kernelspec": {
   "display_name": "Python 3 (ipykernel)",
   "language": "python",
   "name": "python3"
  },
  "language_info": {
   "codemirror_mode": {
    "name": "ipython",
    "version": 3
   },
   "file_extension": ".py",
   "mimetype": "text/x-python",
   "name": "python",
   "nbconvert_exporter": "python",
   "pygments_lexer": "ipython3",
   "version": "3.8.13"
  }
 },
 "nbformat": 4,
 "nbformat_minor": 5
}
