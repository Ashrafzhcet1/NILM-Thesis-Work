{
 "cells": [
  {
   "cell_type": "code",
   "execution_count": 2,
   "id": "1153bbf7",
   "metadata": {},
   "outputs": [],
   "source": [
    "from nilmtk import DataSet\n",
    "from nilmtk.utils import print_dict\n",
    "\n",
    "refit = DataSet(r'C:\\Users\\Ashraf\\ashraf9.hdf')"
   ]
  },
  {
   "cell_type": "code",
   "execution_count": 3,
   "id": "25602b4e",
   "metadata": {},
   "outputs": [
    {
     "data": {
      "text/html": [
       "<ul><li><strong>name</strong>: REFIT</li><li><strong>long_name</strong>: REFIT Electrical Load Measurements dataset</li><li><strong>creators</strong>: <ul><li>Murray, David</li><li>Stankovic, Lina</li></ul></li><li><strong>publication_date</strong>: 2015</li><li><strong>institution</strong>: University of Strathclyde</li><li><strong>contact</strong>: david.murray.2013@uni.strath.ac.uk</li><li><strong>description</strong>: Up to 2 years of power data for 20 UK homes.</li><li><strong>subject</strong>: Disaggregated power demand from domestic buildings.</li><li><strong>number_of_buildings</strong>: 20</li><li><strong>timezone</strong>: Europe/London</li><li><strong>geo_location</strong>: <ul><li><strong>locality</strong>: Loughborough</li><li><strong>country</strong>: UK</li><li><strong>latitude</strong>: 52.769655</li><li><strong>longitude</strong>: -1.225061</li></ul></li><li><strong>related_documents</strong>: <ul><li><a href=\"http://iet.jrc.ec.europa.eu/energyefficiency/sites/energyefficiency/files/events/EEDAL15/S25_Smart_Meters/eedal15_submission_124.pdf\">http://iet.jrc.ec.europa.eu/energyefficiency/sites/energyefficiency/files/events/EEDAL15/S25_Smart_Meters/eedal15_submission_124.pdf</a></li><li>David Murray, Jing Liao, Lina Stankovic, Vladimir Stankovic, Richard Hauxwell-Baldwin, Charlie Wilson, Michael Coleman, Tom Kane, Steven Firth. A data management platform for personalised real-time energy feedback. In Procededings of the 8th International Conference on Energy Efficiency in Domestic Appliances and Lighting, 2015.\n",
       "</li></ul></li><li><strong>schema</strong>: <a href=\"https://github.com/nilmtk/nilm_metadata/tree/v0.2\">https://github.com/nilmtk/nilm_metadata/tree/v0.2</a></li><li><strong>meter_devices</strong>: <ul><li><strong>IAM</strong>: <ul><li><strong>model</strong>: unknown</li><li><strong>manufacturer</strong>: unknown</li><li><strong>manufacturer_url</strong>: unknown</li><li><strong>description</strong>: individual appliance monitor</li><li><strong>sample_period</strong>: 7</li><li><strong>max_sample_period</strong>: 120</li><li><strong>measurements</strong>: <ul><li>{'physical_quantity': 'power', 'type': 'active', 'upper_limit': 5000, 'lower_limit': 0}</li></ul></li><li><strong>wireless</strong>: True</li></ul></li><li><strong>Clamp</strong>: <ul><li><strong>model</strong>: unknown</li><li><strong>manufacturer</strong>: unknown</li><li><strong>manufacturer_url</strong>: unknown</li><li><strong>description</strong>: current clamp</li><li><strong>sample_period</strong>: 7</li><li><strong>max_sample_period</strong>: 120</li><li><strong>measurements</strong>: <ul><li>{'physical_quantity': 'power', 'type': 'active', 'upper_limit': 5000, 'lower_limit': 0}</li></ul></li><li><strong>wireless</strong>: True</li></ul></li></ul></li></ul>"
      ],
      "text/plain": [
       "<IPython.core.display.HTML object>"
      ]
     },
     "metadata": {},
     "output_type": "display_data"
    }
   ],
   "source": [
    "print_dict(refit.metadata)"
   ]
  },
  {
   "cell_type": "code",
   "execution_count": 4,
   "id": "5f4fc011",
   "metadata": {},
   "outputs": [
    {
     "data": {
      "text/html": [
       "<ul><li><strong>1</strong>: Building(instance=1, dataset='REFIT')</li><li><strong>10</strong>: Building(instance=10, dataset='REFIT')</li><li><strong>11</strong>: Building(instance=11, dataset='REFIT')</li><li><strong>12</strong>: Building(instance=12, dataset='REFIT')</li><li><strong>13</strong>: Building(instance=13, dataset='REFIT')</li><li><strong>14</strong>: Building(instance=14, dataset='REFIT')</li><li><strong>15</strong>: Building(instance=15, dataset='REFIT')</li><li><strong>16</strong>: Building(instance=16, dataset='REFIT')</li><li><strong>17</strong>: Building(instance=17, dataset='REFIT')</li><li><strong>18</strong>: Building(instance=18, dataset='REFIT')</li><li><strong>19</strong>: Building(instance=19, dataset='REFIT')</li><li><strong>2</strong>: Building(instance=2, dataset='REFIT')</li><li><strong>20</strong>: Building(instance=20, dataset='REFIT')</li><li><strong>3</strong>: Building(instance=3, dataset='REFIT')</li><li><strong>4</strong>: Building(instance=4, dataset='REFIT')</li><li><strong>5</strong>: Building(instance=5, dataset='REFIT')</li><li><strong>6</strong>: Building(instance=6, dataset='REFIT')</li><li><strong>7</strong>: Building(instance=7, dataset='REFIT')</li><li><strong>8</strong>: Building(instance=8, dataset='REFIT')</li><li><strong>9</strong>: Building(instance=9, dataset='REFIT')</li></ul>"
      ],
      "text/plain": [
       "<IPython.core.display.HTML object>"
      ]
     },
     "metadata": {},
     "output_type": "display_data"
    }
   ],
   "source": [
    "print_dict(refit.buildings)\n"
   ]
  },
  {
   "cell_type": "code",
   "execution_count": 5,
   "id": "874902d2",
   "metadata": {},
   "outputs": [
    {
     "data": {
      "text/html": [
       "<ul><li><strong>instance</strong>: 1</li><li><strong>original_name</strong>: House1</li><li><strong>dataset</strong>: REFIT</li></ul>"
      ],
      "text/plain": [
       "<IPython.core.display.HTML object>"
      ]
     },
     "metadata": {},
     "output_type": "display_data"
    }
   ],
   "source": [
    "print_dict(refit.buildings[1].metadata)"
   ]
  },
  {
   "cell_type": "code",
   "execution_count": 6,
   "id": "c79a9a1e",
   "metadata": {},
   "outputs": [
    {
     "data": {
      "text/plain": [
       "MeterGroup(meters=\n",
       "  ElecMeter(instance=1, building=1, dataset='REFIT', site_meter, appliances=[])\n",
       "  ElecMeter(instance=2, building=1, dataset='REFIT', appliances=[Appliance(type='fridge', instance=1)])\n",
       "  ElecMeter(instance=3, building=1, dataset='REFIT', appliances=[Appliance(type='freezer', instance=1)])\n",
       "  ElecMeter(instance=4, building=1, dataset='REFIT', appliances=[Appliance(type='freezer', instance=2)])\n",
       "  ElecMeter(instance=5, building=1, dataset='REFIT', appliances=[Appliance(type='washer dryer', instance=1)])\n",
       "  ElecMeter(instance=6, building=1, dataset='REFIT', appliances=[Appliance(type='washing machine', instance=1)])\n",
       "  ElecMeter(instance=7, building=1, dataset='REFIT', appliances=[Appliance(type='dish washer', instance=1)])\n",
       "  ElecMeter(instance=8, building=1, dataset='REFIT', appliances=[Appliance(type='computer', instance=1)])\n",
       "  ElecMeter(instance=9, building=1, dataset='REFIT', appliances=[Appliance(type='television', instance=1)])\n",
       "  ElecMeter(instance=10, building=1, dataset='REFIT', appliances=[Appliance(type='electric space heater', instance=1)])\n",
       ")"
      ]
     },
     "execution_count": 6,
     "metadata": {},
     "output_type": "execute_result"
    }
   ],
   "source": [
    "refit.buildings[1].elec"
   ]
  },
  {
   "cell_type": "code",
   "execution_count": null,
   "id": "effa2ccd",
   "metadata": {},
   "outputs": [],
   "source": []
  }
 ],
 "metadata": {
  "kernelspec": {
   "display_name": "Python 3 (ipykernel)",
   "language": "python",
   "name": "python3"
  },
  "language_info": {
   "codemirror_mode": {
    "name": "ipython",
    "version": 3
   },
   "file_extension": ".py",
   "mimetype": "text/x-python",
   "name": "python",
   "nbconvert_exporter": "python",
   "pygments_lexer": "ipython3",
   "version": "3.8.13"
  }
 },
 "nbformat": 4,
 "nbformat_minor": 5
}
